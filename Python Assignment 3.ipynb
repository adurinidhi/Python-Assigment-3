{
 "cells": [
  {
   "cell_type": "markdown",
   "metadata": {},
   "source": [
    "### 1. Write a python program to implement your own myreduce() function which works exactly like python's built-in function reduce()"
   ]
  },
  {
   "cell_type": "code",
   "execution_count": 7,
   "metadata": {},
   "outputs": [],
   "source": [
    "#My reduce function\n",
    "def reduce(function,arg,*args):\n",
    "    newarg=arg\n",
    "    extra_args=args\n",
    "    if(len(args)==0):\n",
    "        #print(\"inside if\")\n",
    "        for i in arg:\n",
    "            res=function(newarg[0],newarg[1])\n",
    "            #print(res)\n",
    "            del newarg[0]\n",
    "            del newarg[0]\n",
    "            #print(newarg)\n",
    "            newarg.insert(0,res)\n",
    "            #print(newarg)\n",
    "            if(len(newarg)==2):\n",
    "                return function(newarg[0],newarg[1])\n",
    "    else:\n",
    "        #print(\"inside else\")\n",
    "        extra_args=extra_args[0]\n",
    "        for i in arg:\n",
    "            res=function(extra_args,i)\n",
    "            extra_args=res\n",
    "        return res"
   ]
  },
  {
   "cell_type": "markdown",
   "metadata": {},
   "source": [
    "### Example 1 "
   ]
  },
  {
   "cell_type": "code",
   "execution_count": 8,
   "metadata": {},
   "outputs": [],
   "source": [
    "#Checking how both functions work\n",
    "import functools as f\n",
    "\n",
    "#This function multiplies all the elements in the list\n",
    "def mult(x,y):\n",
    "    #print(\"print result = \",x*y)\n",
    "    return x*y\n",
    "\n"
   ]
  },
  {
   "cell_type": "code",
   "execution_count": 9,
   "metadata": {},
   "outputs": [
    {
     "name": "stdout",
     "output_type": "stream",
     "text": [
      "120\n"
     ]
    }
   ],
   "source": [
    "#checking with imported reduce() function\n",
    "fact=f.reduce(mult,[1,2,3,4,5]) \n",
    "print(fact)"
   ]
  },
  {
   "cell_type": "code",
   "execution_count": 10,
   "metadata": {},
   "outputs": [
    {
     "name": "stdout",
     "output_type": "stream",
     "text": [
      "120\n"
     ]
    }
   ],
   "source": [
    "#Checking with my own reduce() function\n",
    "fact1=reduce(mult,[1,2,3,4,5])\n",
    "print(fact1)"
   ]
  },
  {
   "cell_type": "markdown",
   "metadata": {},
   "source": [
    "### Example 2 "
   ]
  },
  {
   "cell_type": "code",
   "execution_count": 13,
   "metadata": {},
   "outputs": [],
   "source": [
    "#This function reduces the given list of invitees to a dictionary with {'emailID':'status'} format using reduce()\n",
    "\n",
    "def transform_data(acc, invitee):\n",
    "    #print(\"acc\",acc)\n",
    "    #print(\"invitee\",invitee)\n",
    "    acc[invitee['email']]=invitee['status']\n",
    "    #print(\"before return\")\n",
    "    return acc\n"
   ]
  },
  {
   "cell_type": "code",
   "execution_count": 14,
   "metadata": {},
   "outputs": [],
   "source": [
    ">>> list_of_invitees = [\n",
    "...     {\"email\": \"alex@example.com\", \"name\": \"Alex\", \"status\": \"attending\"},\n",
    "...     {\"email\": \"brian@example.com\", \"name\": \"Brian\", \"status\": \"declined\"},\n",
    "...     {\"email\": \"carol@example.com\", \"name\": \"Carol\", \"status\": \"pending\"},\n",
    "...     {\"email\": \"derek@example.com\", \"name\": \"Derek\", \"status\": \"attending\"},\n",
    "...     {\"email\": \"ellen@example.com\", \"name\": \"Ellen\", \"status\": \"attending\"}\n",
    "... ]\n"
   ]
  },
  {
   "cell_type": "code",
   "execution_count": 16,
   "metadata": {},
   "outputs": [
    {
     "name": "stdout",
     "output_type": "stream",
     "text": [
      "{'alex@example.com': 'attending', 'brian@example.com': 'declined', 'carol@example.com': 'pending', 'derek@example.com': 'attending', 'ellen@example.com': 'attending'}\n"
     ]
    }
   ],
   "source": [
    "#Imported reduce function\n",
    "results=f.reduce(transform_data,list_of_invitees,{})\n",
    "print(results)"
   ]
  },
  {
   "cell_type": "code",
   "execution_count": 17,
   "metadata": {},
   "outputs": [
    {
     "name": "stdout",
     "output_type": "stream",
     "text": [
      "{'alex@example.com': 'attending', 'brian@example.com': 'declined', 'carol@example.com': 'pending', 'derek@example.com': 'attending', 'ellen@example.com': 'attending'}\n"
     ]
    }
   ],
   "source": [
    "#Created reduce function\n",
    "results1=reduce(transform_data, list_of_invitees,{})\n",
    "print(results)"
   ]
  },
  {
   "cell_type": "markdown",
   "metadata": {},
   "source": [
    "### 2. Write your own filter() function that works exactly like the python built-in filter() function"
   ]
  },
  {
   "cell_type": "code",
   "execution_count": 26,
   "metadata": {},
   "outputs": [],
   "source": [
    "def myfilter(func,iterator):\n",
    "    l=[]\n",
    "    for i in iterator:\n",
    "        if func==None:\n",
    "            if(i):\n",
    "                l.append(i)\n",
    "        else:\n",
    "            intermediate=func(i)\n",
    "            if(intermediate):\n",
    "                l.append(i)\n",
    "    iter_=iter(l)\n",
    "    return iter_\n",
    "            \n",
    "          \n",
    "        \n",
    "    "
   ]
  },
  {
   "cell_type": "code",
   "execution_count": 27,
   "metadata": {},
   "outputs": [],
   "source": [
    "#Example 1\n",
    "\n",
    "seq=[1,2,3,4,5,6,7,8,9,10]\n",
    "\n",
    "def even_number(x):\n",
    "    if(x%2==0):\n",
    "        return True\n",
    "    else:\n",
    "        return False\n",
    "    \n",
    "    \n"
   ]
  },
  {
   "cell_type": "code",
   "execution_count": 28,
   "metadata": {},
   "outputs": [
    {
     "name": "stdout",
     "output_type": "stream",
     "text": [
      "2\n",
      "4\n",
      "6\n",
      "8\n",
      "10\n"
     ]
    }
   ],
   "source": [
    "#Checking with built in filter()\n",
    "\n",
    "result=filter(even_number,seq)\n",
    "for i in result:\n",
    "    print(i)"
   ]
  },
  {
   "cell_type": "code",
   "execution_count": 30,
   "metadata": {},
   "outputs": [
    {
     "name": "stdout",
     "output_type": "stream",
     "text": [
      "2\n",
      "4\n",
      "6\n",
      "8\n",
      "10\n"
     ]
    }
   ],
   "source": [
    "#Checking with myfilter() function\n",
    "myresult=myfilter(even_number,seq)\n",
    "for i in myresult:\n",
    "    print(i)"
   ]
  },
  {
   "cell_type": "markdown",
   "metadata": {},
   "source": [
    "### 3. Implement list comprehensions to produce the following lists\n",
    "\n"
   ]
  },
  {
   "cell_type": "code",
   "execution_count": 31,
   "metadata": {},
   "outputs": [
    {
     "name": "stdout",
     "output_type": "stream",
     "text": [
      "['x', 'xx', 'xxx', 'xxxx', 'y', 'yy', 'yyy', 'yyyy', 'z', 'zz', 'zzz', 'zzzz']\n"
     ]
    }
   ],
   "source": [
    "#list comprehension 1: [x,xx,xxx,xxxx,y,yy,yyy,yyyy,z,zz,zzz,zzzz]\n",
    "\n",
    "lc1=[i*j for i in ['x','y','z'] for j in range(1,5)]\n",
    "\n",
    "print(lc1)"
   ]
  },
  {
   "cell_type": "code",
   "execution_count": 32,
   "metadata": {},
   "outputs": [
    {
     "name": "stdout",
     "output_type": "stream",
     "text": [
      "['x', 'y', 'z', 'xx', 'yy', 'zz', 'xxx', 'yyy', 'zzz', 'xxxx', 'yyyy', 'zzzz']\n"
     ]
    }
   ],
   "source": [
    "#list comprehension 2: [x,y,z,xx,yy,zz,xxx,yyy,zzz,xxxx,yyyy,zzzz]\n",
    "\n",
    "lc2=[j*i for i in range(1,5) for j in ['x','y','z']]\n",
    "print(lc2)"
   ]
  },
  {
   "cell_type": "code",
   "execution_count": 33,
   "metadata": {},
   "outputs": [
    {
     "data": {
      "text/plain": [
       "[[[2], [3], [4], [3], [4], [5], [4], [5], [6]],\n",
       " [[2, 3, 4, 5], [3, 4, 5, 6], [4, 5, 6, 7], [5, 6, 7, 8]]]"
      ]
     },
     "execution_count": 33,
     "metadata": {},
     "output_type": "execute_result"
    }
   ],
   "source": [
    "#[[2], [3], [4], [3], [4], [5], [4], [5], [6]] [[2, 3, 4, 5], [3, 4, 5, 6],[4, 5, 6, 7], [5, 6, 7, 8]]\n",
    "\n",
    "l=[2,3,4,5,6]\n",
    "l2=[2,3,4,5,6,7,8]\n",
    "[[[l[i+j]] for i in range(0,len(l)-1) for j in range(0,3) if(i+2<len(l))]]+\\\n",
    "[[l2[i:i+4] for i in range(0,len(l2)-1) if(i+4<=len(l2))]]"
   ]
  },
  {
   "cell_type": "code",
   "execution_count": 35,
   "metadata": {},
   "outputs": [
    {
     "name": "stdout",
     "output_type": "stream",
     "text": [
      "[(1, 1), (2, 1), (3, 1), (1, 2), (2, 2), (3, 2), (1, 3), (2, 3), (3, 3)]\n"
     ]
    }
   ],
   "source": [
    "#[(1, 1), (2, 1), (3, 1), (1, 2), (2, 2), (3, 2), (1, 3), (2, 3), (3, 3)]\n",
    "\n",
    "lc4=[(j,i) for i in [1,2,3] for j in [1,2,3]]\n",
    "print(lc4)"
   ]
  },
  {
   "cell_type": "code",
   "execution_count": null,
   "metadata": {},
   "outputs": [],
   "source": []
  }
 ],
 "metadata": {
  "kernelspec": {
   "display_name": "Python 3",
   "language": "python",
   "name": "python3"
  },
  "language_info": {
   "codemirror_mode": {
    "name": "ipython",
    "version": 3
   },
   "file_extension": ".py",
   "mimetype": "text/x-python",
   "name": "python",
   "nbconvert_exporter": "python",
   "pygments_lexer": "ipython3",
   "version": "3.7.0"
  }
 },
 "nbformat": 4,
 "nbformat_minor": 2
}
